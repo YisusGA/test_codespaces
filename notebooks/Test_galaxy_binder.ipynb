{
 "cells": [
  {
   "cell_type": "code",
   "execution_count": null,
   "id": "32bcbf61-30ef-4eae-b2f6-9964c6c4d37d",
   "metadata": {},
   "outputs": [],
   "source": [
    "import skimage\n",
    "import matplotlib.pyplot as plt\n",
    "from cellpose import models\n",
    "\n",
    "image = skimage.io.imread('https://github.com/guiwitz/PyImageCourse_beginner/raw/master/images/24138_196_F7_2.tif')\n",
    "model = models.Cellpose(model_type='cyto2')\n",
    "output = model.eval(image[::2,::2], channels=[0,2], channel_axis=2, diameter=500)\n",
    "\n",
    "fig, ax = plt.subplots(1,2)\n",
    "ax[0].imshow(image)\n",
    "ax[1].imshow(output[0])"
   ]
  }
 ],
 "metadata": {
  "kernelspec": {
   "display_name": "Python 3 (ipykernel)",
   "language": "python",
   "name": "python3"
  },
  "language_info": {
   "codemirror_mode": {
    "name": "ipython",
    "version": 3
   },
   "file_extension": ".py",
   "mimetype": "text/x-python",
   "name": "python",
   "nbconvert_exporter": "python",
   "pygments_lexer": "ipython3",
   "version": "3.9.16"
  }
 },
 "nbformat": 4,
 "nbformat_minor": 5
}
